{
 "cells": [
  {
   "cell_type": "markdown",
   "metadata": {},
   "source": [
    "# NASA SPACE APPS 2024: SEISMIC DETECTION ACROSS THE SOLAR SYSTEM #"
   ]
  },
  {
   "cell_type": "markdown",
   "metadata": {},
   "source": [
    "## INSTALLING AND IMPORTING NECESSARY PACKAGES: ##"
   ]
  },
  {
   "cell_type": "code",
   "execution_count": 1,
   "metadata": {},
   "outputs": [],
   "source": [
    "# ! pip install numpy==1.26.4\n",
    "# ! pip install obspy\n",
    "# ! pip install emd==0.7.0\n",
    "# ! pip install tqdm==4.66.4\n",
    "# ! pip install scikit-learn\n",
    "# # The torch version depends on the cuda version\n",
    "# ! pip install torch==2.2.2+cu121 torchvision==0.17.2+cu121 torchaudio==2.2.2 --index-url https://download.pytorch.org/whl/cu121\n",
    "# ! pip install ipywidgets==8.1.3\n",
    "# ! pip install notebook\n",
    "# ! pip install streamlit\n",
    "# ! pip install torchinfo"
   ]
  },
  {
   "cell_type": "code",
   "execution_count": 2,
   "metadata": {},
   "outputs": [],
   "source": [
    "import numpy as np\n",
    "import obspy\n",
    "import emd\n",
    "import pandas as pd\n",
    "from tqdm.notebook import tqdm\n",
    "import os\n",
    "import scipy.signal as sg\n",
    "from concurrent.futures import ThreadPoolExecutor\n",
    "%matplotlib inline\n",
    "import matplotlib.pyplot as plt\n",
    "import torch\n",
    "import torch.nn as nn\n",
    "import torch.nn.functional as F\n",
    "import torch.optim as optim\n",
    "from torch.utils.data import DataLoader, TensorDataset\n",
    "from IPython.display import clear_output\n",
    "from torchinfo import summary"
   ]
  },
  {
   "cell_type": "code",
   "execution_count": 3,
   "metadata": {},
   "outputs": [
    {
     "name": "stdout",
     "output_type": "stream",
     "text": [
      "CUDA Available:  True\n",
      "CUDA Version:  12.4\n",
      "Device Count:  1\n"
     ]
    }
   ],
   "source": [
    "# About cuda:\n",
    "\n",
    "print(\"CUDA Available: \", torch.cuda.is_available())\n",
    "print(\"CUDA Version: \", torch.version.cuda)\n",
    "print(\"Device Count: \", torch.cuda.device_count())"
   ]
  },
  {
   "cell_type": "markdown",
   "metadata": {},
   "source": [
    "## GENERAL FUNCTIONS(NOT SPECIFIC TO MARS OR MOON) AND MODEL ##"
   ]
  },
  {
   "cell_type": "code",
   "execution_count": 4,
   "metadata": {},
   "outputs": [],
   "source": [
    "import torch\n",
    "\n",
    "# Import necessary libraries\n",
    "import torch.nn as nn\n",
    "\n",
    "# Define a convolutional block with batch normalization and ReLU activation\n",
    "class conbr_block(nn.Module):\n",
    "    def __init__(self, in_layer, out_layer, kernel_size, stride, dilation):\n",
    "        super(conbr_block, self).__init__()\n",
    "        self.conv1 = nn.Conv1d(in_layer, out_layer, kernel_size=kernel_size, stride=stride, dilation=dilation, padding=3, bias=True)\n",
    "        self.bn = nn.BatchNorm1d(out_layer)\n",
    "        self.relu = nn.ReLU()\n",
    "    \n",
    "    def forward(self, x):\n",
    "        x = self.conv1(x)\n",
    "        x = self.bn(x)\n",
    "        out = self.relu(x)\n",
    "        return out       \n",
    "\n",
    "# Define a squeeze-and-excitation block\n",
    "class se_block(nn.Module):\n",
    "    def __init__(self, in_layer, out_layer):\n",
    "        super(se_block, self).__init__()\n",
    "        self.conv1 = nn.Conv1d(in_layer, out_layer // 8, kernel_size=1, padding=0)\n",
    "        self.conv2 = nn.Conv1d(out_layer // 8, in_layer, kernel_size=1, padding=0)\n",
    "        self.fc = nn.Linear(1, out_layer // 8)\n",
    "        self.fc2 = nn.Linear(out_layer // 8, out_layer)\n",
    "        self.relu = nn.ReLU()\n",
    "        self.sigmoid = nn.Sigmoid()\n",
    "    \n",
    "    def forward(self, x):\n",
    "        x_se = nn.functional.adaptive_avg_pool1d(x, 1)\n",
    "        x_se = self.conv1(x_se)\n",
    "        x_se = self.relu(x_se)\n",
    "        x_se = self.conv2(x_se)\n",
    "        x_se = self.sigmoid(x_se)\n",
    "        x_out = torch.add(x, x_se)\n",
    "        return x_out\n",
    "\n",
    "# Define a residual block with convolutional and squeeze-and-excitation blocks\n",
    "class re_block(nn.Module):\n",
    "    def __init__(self, in_layer, out_layer, kernel_size, dilation):\n",
    "        super(re_block, self).__init__()\n",
    "        self.cbr1 = conbr_block(in_layer, out_layer, kernel_size, 1, dilation)\n",
    "        self.cbr2 = conbr_block(out_layer, out_layer, kernel_size, 1, dilation)\n",
    "        self.seblock = se_block(out_layer, out_layer)\n",
    "    \n",
    "    def forward(self, x):\n",
    "        x_re = self.cbr1(x)\n",
    "        x_re = self.cbr2(x_re)\n",
    "        x_re = self.seblock(x_re)\n",
    "        x_out = torch.add(x, x_re)\n",
    "        return x_out          \n",
    "\n",
    "# Define the UNET model\n",
    "class UNET(nn.Module):\n",
    "    def __init__(self, input_dim, layer_n, kernel_size, depth):\n",
    "        super(UNET, self).__init__()\n",
    "        self.input_dim = input_dim\n",
    "        self.layer_n = layer_n\n",
    "        self.kernel_size = kernel_size\n",
    "        self.depth = depth\n",
    "        \n",
    "        # Define average pooling layers\n",
    "        self.AvgPool1D1 = nn.AvgPool1d(input_dim, stride=5)\n",
    "        self.AvgPool1D2 = nn.AvgPool1d(input_dim, stride=25)\n",
    "        self.AvgPool1D3 = nn.AvgPool1d(input_dim, stride=125)\n",
    "        \n",
    "        # Define downsampling layers\n",
    "        self.layer1 = self.down_layer(self.input_dim, self.layer_n, self.kernel_size, 1, 2)\n",
    "        self.layer2 = self.down_layer(self.layer_n, int(self.layer_n * 2), self.kernel_size, 5, 2)\n",
    "        self.layer3 = self.down_layer(int(self.layer_n * 2) + int(self.input_dim), int(self.layer_n * 3), self.kernel_size, 5, 2)\n",
    "        self.layer4 = self.down_layer(int(self.layer_n * 3) + int(self.input_dim), int(self.layer_n * 4), self.kernel_size, 5, 2)\n",
    "        self.layer5 = self.down_layer(int(self.layer_n * 4) + int(self.input_dim), int(self.layer_n * 5), self.kernel_size, 4, 2)\n",
    "\n",
    "        # Define upsampling layers\n",
    "        self.cbr_up1 = conbr_block(int(self.layer_n * 7), int(self.layer_n * 3), self.kernel_size, 1, 1)\n",
    "        self.cbr_up2 = conbr_block(int(self.layer_n * 5), int(self.layer_n * 2), self.kernel_size, 1, 1)\n",
    "        self.cbr_up3 = conbr_block(int(self.layer_n * 3), self.layer_n, self.kernel_size, 1, 1)\n",
    "        self.upsample = nn.Upsample(scale_factor=5, mode='nearest')\n",
    "        self.upsample1 = nn.Upsample(scale_factor=5, mode='nearest')\n",
    "        \n",
    "        # Define output convolutional layer\n",
    "        self.outcov = nn.Conv1d(self.layer_n, 1, kernel_size=self.kernel_size, stride=1, padding=3)\n",
    "    \n",
    "    # Define a method to create downsampling layers\n",
    "    def down_layer(self, input_layer, out_layer, kernel, stride, depth):\n",
    "        block = []\n",
    "        block.append(conbr_block(input_layer, out_layer, kernel, stride, 1))\n",
    "        for i in range(depth):\n",
    "            block.append(re_block(out_layer, out_layer, kernel, 1))\n",
    "        return nn.Sequential(*block)\n",
    "            \n",
    "    def forward(self, x):\n",
    "        # Apply average pooling\n",
    "        pool_x1 = self.AvgPool1D1(x)\n",
    "        pool_x2 = self.AvgPool1D2(x)\n",
    "        pool_x3 = self.AvgPool1D3(x)\n",
    "        \n",
    "        # Encoder\n",
    "        out_0 = self.layer1(x)\n",
    "        out_1 = self.layer2(out_0)\n",
    "        \n",
    "        # Concatenate pooled and encoded features\n",
    "        x = torch.cat([out_1, pool_x1], 1)\n",
    "        out_2 = self.layer3(x)\n",
    "\n",
    "        x = torch.cat([out_2, pool_x2], 1)\n",
    "        x = self.layer4(x)\n",
    "        \n",
    "        # Decoder\n",
    "        up = self.upsample1(x)\n",
    "        up = torch.cat([up, out_2], 1)\n",
    "        up = self.cbr_up1(up)\n",
    "        \n",
    "        up = self.upsample(up)\n",
    "        up = torch.cat([up, out_1], 1)\n",
    "        up = self.cbr_up2(up)\n",
    "        \n",
    "        up = self.upsample(up)\n",
    "        up = torch.cat([up, out_0], 1)\n",
    "        up = self.cbr_up3(up)\n",
    "        \n",
    "        # Output layer\n",
    "        out = self.outcov(up)\n",
    "        \n",
    "        # Apply softmax (commented out)\n",
    "        # out = nn.functional.softmax(out, dim=2)\n",
    "        \n",
    "        return out\n"
   ]
  },
  {
   "cell_type": "code",
   "execution_count": 5,
   "metadata": {},
   "outputs": [],
   "source": [
    "# Band-pass filter function using Butterworth filter design.\n",
    "# Filters the data between lowcut and highcut frequencies.\n",
    "def butter_bandpass_filter(data: np.array, lowcut: float, highcut: float, fs: float, order: int):\n",
    "    nyquist = 0.5 * fs  # Nyquist frequency, half of the sampling rate\n",
    "    low = lowcut / nyquist\n",
    "    high = highcut / nyquist\n",
    "    b, a = sg.butter(order, [low, high], btype='band', analog=False)  # Design Butterworth band-pass filter\n",
    "    y = sg.filtfilt(b, a, data)  # Apply filter to data using zero-phase filtering\n",
    "    return y"
   ]
  },
  {
   "cell_type": "markdown",
   "metadata": {},
   "source": [
    "## LUNAR AND MARS DATA PREPROCESSING ##"
   ]
  },
  {
   "cell_type": "markdown",
   "metadata": {},
   "source": [
    "### LUNAR ###"
   ]
  },
  {
   "cell_type": "code",
   "execution_count": 6,
   "metadata": {},
   "outputs": [
    {
     "data": {
      "application/vnd.jupyter.widget-view+json": {
       "model_id": "6ae78669b024451992d1fa440b3d2509",
       "version_major": 2,
       "version_minor": 0
      },
      "text/plain": [
       "  0%|          | 0/63 [00:00<?, ?it/s]"
      ]
     },
     "metadata": {},
     "output_type": "display_data"
    },
    {
     "name": "stdout",
     "output_type": "stream",
     "text": [
      "skip\n"
     ]
    },
    {
     "data": {
      "application/vnd.jupyter.widget-view+json": {
       "model_id": "fb17bd4745704cb5983284d61d8fa7f5",
       "version_major": 2,
       "version_minor": 0
      },
      "text/plain": [
       "  0%|          | 0/13 [00:00<?, ?it/s]"
      ]
     },
     "metadata": {},
     "output_type": "display_data"
    },
    {
     "name": "stdout",
     "output_type": "stream",
     "text": [
      "(4000, 5)\n"
     ]
    },
    {
     "data": {
      "text/plain": [
       "[<matplotlib.lines.Line2D at 0x20e5851f450>]"
      ]
     },
     "execution_count": 6,
     "metadata": {},
     "output_type": "execute_result"
    },
    {
     "data": {
      "image/png": "[encoded data removed]",
      "text/plain": [
       "<Figure size 1600x400 with 2 Axes>"
      ]
     },
     "metadata": {},
     "output_type": "display_data"
    },
    {
     "data": {
      "image/png": "[encoded data removed]",
      "text/plain": [
       "<Figure size 1600x400 with 3 Axes>"
      ]
     },
     "metadata": {},
     "output_type": "display_data"
    }
   ],
   "source": [
    "# Define base directory for data.\n",
    "base_dir = 'data/lunar/training'\n",
    "\n",
    "# Construct paths in a cross-platform way, compatible with Windows and Linux.\n",
    "catalogy_path = os.path.join(base_dir, 'catalogs', 'apollo12_catalog_GradeA_final.csv')\n",
    "data_folder = os.path.join(base_dir, 'data', 'S12_GradeA')\n",
    "\n",
    "# Read the catalog file which contains metadata about the dataset (e.g., file names, labels, etc.).\n",
    "# catalogy holds the times of the seismic events.\n",
    "# Each line of catalogy has a filename that has velocity by time, and where the seismic event is in the sequence.\n",
    "catalogy = pd.read_csv(catalogy_path)\n",
    "indexs = catalogy.index  # Get the indices of the catalog entries\n",
    "\n",
    "# Initialize dictionaries to hold training and validation data.\n",
    "training_data = {\n",
    "    'data':[],\n",
    "    'label':[]\n",
    "}\n",
    "\n",
    "validation_data = {\n",
    "    'data':[],\n",
    "    'label':[]\n",
    "}\n",
    "\n",
    "# Function to process each file based on the index from the catalog.\n",
    "# Returns a tuple of (input, output) where input is the processed data and output is the label.\n",
    "def process_file_moon(idx):\n",
    "    fileName = catalogy.at[idx, 'filename'] + '.mseed'\n",
    "    arrival_time = catalogy.at[idx, 'time_rel(sec)']\n",
    "\n",
    "    # Check if the file exists, if not return None.\n",
    "    if not os.path.exists(os.path.join(data_folder, fileName)):\n",
    "        return None, None\n",
    "\n",
    "    # Read the seismic data file and preprocess it.\n",
    "    stream = obspy.read(os.path.join(data_folder, fileName))\n",
    "    data = stream[0].data\n",
    "    time = stream[0].times()\n",
    "    fs = stream[0].stats.sampling_rate\n",
    "\n",
    "    # Find the index of the arrival time in the data.\n",
    "    arrival_idx = np.where(time >= arrival_time)[0][0]\n",
    "\n",
    "    # Define the window size for the data segment.\n",
    "    window_size_sec = 30 * 60\n",
    "    window_size = int(window_size_sec * fs)\n",
    "\n",
    "    # Apply a bandpass filter to the data.\n",
    "    data = butter_bandpass_filter(data, 0.4, 1, fs, 6)\n",
    "\n",
    "    # Perform Empirical Mode Decomposition (EMD) on the data.\n",
    "    imfs = emd.sift.ensemble_sift(data, max_imfs=5)\n",
    "    stride = window_size // 48\n",
    "    input = np.lib.stride_tricks.sliding_window_view(imfs**2, window_shape=window_size, axis=0)[::stride, :, :]\n",
    "    input = np.sum(input, axis=-1)\n",
    "\n",
    "    # Initialize the output array.\n",
    "    output = np.zeros((data.shape[0], ))\n",
    "\n",
    "    # Define the Gaussian window for the output label.\n",
    "    arrival_idx = np.where(time - window_size_sec / 4 >= arrival_time)[0][0]\n",
    "    sigma = window_size / 8 * 1.5\n",
    "    gaussian_window_size = int(window_size * 1.5)\n",
    "    if gaussian_window_size % 2 == 1: gaussian_window_size += 1\n",
    "    gaussian_window = sg.windows.gaussian(gaussian_window_size, std=sigma)\n",
    "    left_idx = arrival_idx - (gaussian_window_size // 2)\n",
    "    right_idx = arrival_idx + (gaussian_window_size // 2)\n",
    "\n",
    "    # Adjust indices to fit within the bounds of the output array.\n",
    "    if left_idx < 0:\n",
    "        left_idx = 0\n",
    "    if right_idx > len(output):\n",
    "        right_idx = len(output)\n",
    "\n",
    "    # Assign the Gaussian window to the output array.\n",
    "    output[left_idx:right_idx] = gaussian_window[:right_idx - left_idx]\n",
    "\n",
    "    # Resample the input and output to a fixed size.\n",
    "    input = sg.resample(input, 4000, axis=0)\n",
    "    output = sg.resample(output, 4000)\n",
    "\n",
    "    # Normalize the input data.\n",
    "    input_maxs = np.max(input, axis=0)\n",
    "    input = input / input_maxs\n",
    "\n",
    "    # Ensure the input has at least 5 channels.\n",
    "    while input.shape[1] < 5:\n",
    "        input = np.concatenate([input, np.zeros((input.shape[0], 1)) + 0.001], axis=1)\n",
    "\n",
    "    return input, output\n",
    "\n",
    "# Define indices for validation and training sets.\n",
    "indexs_validation = [7, 8, 22, 23, 27, 34, 36, 37, 40, 48, 49, 67, 68]\n",
    "indexs_train = [i for i in indexs if i not in indexs_validation]\n",
    "\n",
    "# Process the training files in parallel using multiple threads.\n",
    "with ThreadPoolExecutor(max_workers=os.cpu_count() - 2) as executor:\n",
    "    results = list(tqdm(executor.map(process_file_moon, indexs_train), total=len(indexs_train)))\n",
    "\n",
    "# Collect the processed training data.\n",
    "for r in results:\n",
    "    if r[0] is None:\n",
    "        print('skip')\n",
    "        continue\n",
    "    training_data['data'].append(r[0])\n",
    "    training_data['label'].append(r[1])\n",
    "\n",
    "# Process the validation files in parallel using multiple threads.\n",
    "with ThreadPoolExecutor(max_workers=os.cpu_count() - 2) as executor:\n",
    "    results = list(tqdm(executor.map(process_file_moon, indexs_validation), total=len(indexs_validation)))\n",
    "\n",
    "# Collect the processed validation data.\n",
    "for r in results:\n",
    "    if r[0] is None:\n",
    "        print('skip')\n",
    "        continue\n",
    "    validation_data['data'].append(r[0])\n",
    "    validation_data['label'].append(r[1])\n",
    "\n",
    "# Display the shape of the first processed input.\n",
    "inp, out = results[0]\n",
    "print(inp.shape)\n",
    "\n",
    "# Plot the first processed input and output.\n",
    "fig, axs = plt.subplots(2, 1, figsize=(16, 4))\n",
    "axs[0].imshow(inp.T, aspect='auto', cmap='jet', interpolation='nearest', origin='lower')\n",
    "axs[1].plot(out)\n",
    "\n",
    "# Plot individual channels of the first processed input and the output.\n",
    "fig, axs = plt.subplots(3, 1, figsize=(16, 4))\n",
    "axs[0].plot(inp[:, 0])\n",
    "axs[1].plot(inp[:, 1])\n",
    "axs[2].plot(out)"
   ]
  },
  {
   "cell_type": "markdown",
   "metadata": {},
   "source": [
    "### MARS ###"
   ]
  },
  {
   "cell_type": "code",
   "execution_count": 7,
   "metadata": {},
   "outputs": [
    {
     "data": {
      "application/vnd.jupyter.widget-view+json": {
       "model_id": "cf0ce294ea3041ed960281f663a3074b",
       "version_major": 2,
       "version_minor": 0
      },
      "text/plain": [
       "  0%|          | 0/2 [00:00<?, ?it/s]"
      ]
     },
     "metadata": {},
     "output_type": "display_data"
    },
    {
     "name": "stdout",
     "output_type": "stream",
     "text": [
      "(4000, 5)\n"
     ]
    },
    {
     "data": {
      "text/plain": [
       "[<matplotlib.lines.Line2D at 0x20e585f6610>]"
      ]
     },
     "execution_count": 7,
     "metadata": {},
     "output_type": "execute_result"
    },
    {
     "data": {
      "image/png": "[encoded data removed]",
      "text/plain": [
       "<Figure size 1600x400 with 2 Axes>"
      ]
     },
     "metadata": {},
     "output_type": "display_data"
    },
    {
     "data": {
      "image/png": "[encoded data removed]",
      "text/plain": [
       "<Figure size 1600x400 with 3 Axes>"
      ]
     },
     "metadata": {},
     "output_type": "display_data"
    }
   ],
   "source": [
    "# Define base directory for data.\n",
    "base_dir_mars = 'data/mars/training'\n",
    "\n",
    "# Construct paths in a cross-platform way, compatible with Windows and Linux.\n",
    "catalogy_path_mars = os.path.join(base_dir_mars, 'catalogs', 'Mars_InSight_training_catalog_final.csv')\n",
    "data_folder_mars = os.path.join(base_dir_mars, 'data')\n",
    "\n",
    "# Read the catalog file which contains metadata about the dataset (e.g., file names, labels, etc.).\n",
    "# catalogy holds the times of the seismic events.\n",
    "# Each line of catalogy has a filename that has velocity by time, and where the seismic event is in the sequence.\n",
    "catalogy_mars = pd.read_csv(catalogy_path_mars)\n",
    "indexs_mars = catalogy_mars.index  # Get the indices of the catalog entries\n",
    "\n",
    "# Initialize a dictionary to hold validation data.\n",
    "validation_data_mars = {\n",
    "    \"data\": [],\n",
    "    \"label\": []\n",
    "}\n",
    "\n",
    "# Function to process a file given its index in the catalog.\n",
    "def process_file_mars(idx):\n",
    "    # Get the filename and arrival time from the catalog.\n",
    "    fileName = catalogy_mars.at[idx, 'filename'].replace(\".csv\", \"\") + '.mseed'\n",
    "    arrival_time = catalogy_mars.at[idx, 'time_rel(sec)']\n",
    "\n",
    "    # Check if the file exists.\n",
    "    if not os.path.exists(os.path.join(data_folder_mars, fileName)):\n",
    "        return None, None\n",
    "\n",
    "    # Read the seismic data file and preprocess it.\n",
    "    stream = obspy.read(os.path.join(data_folder_mars, fileName))\n",
    "    data = stream[0].data\n",
    "    time = stream[0].times()\n",
    "    fs = stream[0].stats.sampling_rate\n",
    "\n",
    "    # Find the index of the arrival time.\n",
    "    arrival_idx = np.where(time >= arrival_time)[0][0]\n",
    "\n",
    "    # Define the window size for processing.\n",
    "    window_size_sec = 80\n",
    "    window_size = int(window_size_sec * fs)\n",
    "\n",
    "    # Apply a bandpass filter to the data.\n",
    "    data = butter_bandpass_filter(data, 2, 8, fs, 6)\n",
    "\n",
    "    # Perform ensemble empirical mode decomposition (EEMD) on the data.\n",
    "    imfs = emd.sift.ensemble_sift(data, max_imfs=5)\n",
    "    stride = window_size // 48\n",
    "    input = np.lib.stride_tricks.sliding_window_view(imfs**2, window_shape=window_size, axis=0)[::stride, :, :]\n",
    "    input = np.sum(input, axis=-1)\n",
    "\n",
    "    # Initialize the output array.\n",
    "    output = np.zeros((data.shape[0], ))\n",
    "\n",
    "    # Find the index for the arrival time adjusted by the window size.\n",
    "    arrival_idx = np.where(time - window_size_sec / 4 >= arrival_time)[0][0]\n",
    "    sigma = window_size / 8 * 1.5\n",
    "    gaussian_window_size = int(window_size * 1.5)\n",
    "    if gaussian_window_size % 2 == 1: gaussian_window_size += 1\n",
    "    gaussian_window = sg.windows.gaussian(gaussian_window_size, std=sigma)\n",
    "    left_idx = arrival_idx - (gaussian_window_size // 2)\n",
    "    right_idx = arrival_idx + (gaussian_window_size // 2)\n",
    "\n",
    "    # Adjust the indices if they are out of bounds.\n",
    "    if left_idx < 0:\n",
    "        left_idx = 0\n",
    "    if right_idx > len(output):\n",
    "        right_idx = len(output)\n",
    "\n",
    "    # Apply the Gaussian window to the output array.\n",
    "    output[left_idx:right_idx] = gaussian_window[:right_idx - left_idx]\n",
    "\n",
    "    # Resample the input and output arrays.\n",
    "    input = sg.resample(input, 4000, axis=0)\n",
    "    output = sg.resample(output, 4000)\n",
    "\n",
    "    # Normalize the input data.\n",
    "    input_maxs = np.max(input, axis=0)\n",
    "    input = input / input_maxs\n",
    "\n",
    "    # Ensure the input has at least 5 columns.\n",
    "    while input.shape[1] < 5:\n",
    "        input = np.concatenate([input, np.zeros((input.shape[0], 1)) + 0.001], axis=1)\n",
    "\n",
    "    return input, output\n",
    "\n",
    "# Randomly split the indices into training and testing sets.\n",
    "# There are 76 files in the catalog, we are using, in this case, 66 for training and 10 for validation.\n",
    "indexs_validation_mars = [0, 1]\n",
    "\n",
    "# Uncomment the following code to process all training indices in parallel using multiple threads:\n",
    "with ThreadPoolExecutor(max_workers=os.cpu_count() - 2) as executor:\n",
    "    results_mars = list(tqdm(executor.map(process_file_mars, indexs_validation_mars), total=len(indexs_validation_mars)))\n",
    "\n",
    "# Append the processed data to the validation_data_mars dictionary.\n",
    "for r in results_mars:\n",
    "    if r[0] is None:\n",
    "        print('skip')\n",
    "        continue\n",
    "    validation_data_mars['data'].append(r[0])\n",
    "    validation_data_mars['label'].append(r[1])\n",
    "\n",
    "# Get the first result for visualization.\n",
    "inp, out = results_mars[0]\n",
    "print(inp.shape)\n",
    "\n",
    "# Plot the input and output data.\n",
    "fig, axs = plt.subplots(2, 1, figsize=(16, 4))\n",
    "axs[0].imshow(inp.T, aspect='auto', cmap='jet', interpolation='nearest', origin='lower', extent=[0, inp.shape[1], 1, 100], vmin=0, vmax=inp.max())\n",
    "axs[1].plot(out)\n",
    "\n",
    "# Plot individual components of the input data.\n",
    "fig, axs = plt.subplots(3, 1, figsize=(16, 4))\n",
    "axs[0].plot(inp[:, 0])\n",
    "axs[1].plot(inp[:, 1])\n",
    "axs[2].plot(out)"
   ]
  },
  {
   "cell_type": "markdown",
   "metadata": {},
   "source": [
    "### ORGANIZING DATA FOR TRAINING ###"
   ]
  },
  {
   "cell_type": "code",
   "execution_count": 8,
   "metadata": {},
   "outputs": [],
   "source": [
    "# Convert the lists to numpy arrays:\n",
    "# Moon:\n",
    "training_data['data'] = np.array(training_data['data'])\n",
    "training_data['label'] = np.array(training_data['label'])\n",
    "\n",
    "validation_data['data'] = np.array(validation_data['data'])\n",
    "validation_data['label'] = np.array(validation_data['label'])\n",
    "\n",
    "# Mars:\n",
    "validation_data_mars['data'] = np.array(validation_data_mars['data'])\n",
    "validation_data_mars['label'] = np.array(validation_data_mars['label'])\n",
    "\n",
    "\n",
    "# Transpose the data to have the correct shape:\n",
    "# Moon:\n",
    "X_train = training_data['data'].transpose(0, 2, 1)\n",
    "Y_train = training_data['label'][:,np.newaxis,:]\n",
    "\n",
    "X_eval = validation_data['data'].transpose(0, 2, 1)\n",
    "Y_eval = validation_data['label'][:,np.newaxis,:]\n",
    "\n",
    "# Mars:\n",
    "X_eval_mars = validation_data_mars['data'].transpose(0, 2, 1)\n",
    "Y_eval_mars = validation_data_mars['label'][:,np.newaxis,:]"
   ]
  },
  {
   "cell_type": "markdown",
   "metadata": {},
   "source": [
    "## TRAINING ##"
   ]
  },
  {
   "cell_type": "markdown",
   "metadata": {},
   "source": [
    "### SETTING UP FOR TRAINING: ###"
   ]
  },
  {
   "cell_type": "code",
   "execution_count": 9,
   "metadata": {},
   "outputs": [
    {
     "name": "stdout",
     "output_type": "stream",
     "text": [
      "Training will run on GPU.\n",
      "X_tensor shape: torch.Size([62, 5, 4000])\n",
      "Y_tensor shape: torch.Size([62, 1, 4000])\n",
      "\n",
      "X_eval_tensor shape: torch.Size([13, 5, 4000])\n",
      "Y_eval_tensor shape: torch.Size([13, 1, 4000])\n",
      "\n",
      "X_eval_mars_tensor shape: torch.Size([2, 5, 4000])\n",
      "Y_eval_mars_tensor shape: torch.Size([2, 1, 4000])\n"
     ]
    }
   ],
   "source": [
    "# Set the device to GPU if available\n",
    "device = 'cuda' if torch.cuda.is_available() else 'cpu'\n",
    "torch.set_default_device(device)\n",
    "if device == 'cuda':\n",
    "    print(\"Training will run on GPU.\")\n",
    "else:\n",
    "    print(\"Training will run on CPU.\")\n",
    "\n",
    "# ============== Convert numpy arrays to tensors and move to GPU ==============\n",
    "\n",
    "# Moon:\n",
    "X_tensor = torch.tensor(X_train, dtype=torch.float32).to(device)\n",
    "Y_tensor = torch.tensor(Y_train, dtype=torch.float32).to(device)\n",
    "\n",
    "X_eval_tensor = torch.tensor(X_eval, dtype=torch.float32).to(device)\n",
    "Y_eval_tensor = torch.tensor(Y_eval, dtype=torch.float32).to(device)\n",
    "\n",
    "print(f'X_tensor shape: {X_tensor.shape}')\n",
    "print(f'Y_tensor shape: {Y_tensor.shape}')\n",
    "\n",
    "print(f'\\nX_eval_tensor shape: {X_eval_tensor.shape}')\n",
    "print(f'Y_eval_tensor shape: {Y_eval_tensor.shape}')\n",
    "\n",
    "# Mars:\n",
    "X_eval_mars_tensor = torch.tensor(X_eval_mars, dtype=torch.float32).to(device)\n",
    "Y_eval_mars_tensor = torch.tensor(Y_eval_mars, dtype=torch.float32).to(device)\n",
    "\n",
    "print(f'\\nX_eval_mars_tensor shape: {X_eval_mars_tensor.shape}')\n",
    "print(f'Y_eval_mars_tensor shape: {Y_eval_mars_tensor.shape}')\n",
    "\n",
    "# ================================== DONE ====================================\n",
    "\n",
    "\n",
    "# ================= Create a DataLoaders with the datasets ===================\n",
    "\n",
    "generator = torch.Generator(device=device)  # Ensure DataLoader uses GPU generator\n",
    "\n",
    "# Moon:\n",
    "dataset = TensorDataset(X_tensor, Y_tensor)\n",
    "eval_dataset = TensorDataset(X_eval_tensor, Y_eval_tensor)\n",
    "\n",
    "train_loader = DataLoader(dataset, batch_size=2, shuffle=True, generator=generator)\n",
    "eval_loader = DataLoader(eval_dataset, batch_size=2, shuffle=False, generator=generator)\n",
    "\n",
    "# Mars:\n",
    "eval_mars_dataset = TensorDataset(X_eval_mars_tensor, Y_eval_mars_tensor)\n",
    "eval_loader_mars = DataLoader(eval_mars_dataset, batch_size=2, shuffle=False, generator=generator)\n",
    "\n",
    "# ============================ DataLoaders created ============================\n",
    "\n",
    "# ============================ Model and training setup ========================\n",
    "\n",
    "# Initialize the model and move to GPU\n",
    "model = model = UNET(5,128,7,3).to(device)\n",
    "\n",
    "# Set optimizer and loss function\n",
    "optimizer = optim.AdamW(model.parameters(), lr=0.001, weight_decay=1e-5)  # Adam optimizer with weight decay\n",
    "\n",
    "scheduler = optim.lr_scheduler.ReduceLROnPlateau(optimizer, 'min', patience=10, factor=0.8, min_lr=1e-8) # Using ReduceLROnPlateau schedule\n",
    "\n",
    "criterion = nn.MSELoss()  # Mean Squared Error Loss for binary classification\n",
    "\n",
    "# Early stopping setup\n",
    "patience = 100  # Number of epochs to wait before stopping if no improvement\n",
    "min_delta = 0.0001  # Minimum change in loss to qualify as an improvement\n",
    "best_loss = float('inf')  # Initialize best loss with a large value\n",
    "patience_counter = 0  # Counter for early stopping\n",
    "\n",
    "# ============================ Setup finished =================================="
   ]
  },
  {
   "cell_type": "markdown",
   "metadata": {},
   "source": [
    "### TRAINING! ###"
   ]
  },
  {
   "cell_type": "code",
   "execution_count": 10,
   "metadata": {},
   "outputs": [
    {
     "data": {
      "image/png": "[encoded data removed]",
      "text/plain": [
       "<Figure size 1800x500 with 2 Axes>"
      ]
     },
     "metadata": {},
     "output_type": "display_data"
    },
    {
     "name": "stdout",
     "output_type": "stream",
     "text": [
      "Epoch 50/50\n",
      "Moon training Loss: 0.0039, Moon training Accuracy: 0.9720\n",
      "Moon validation Loss: 0.0062, Moon validation Accuracy: 0.9618\n",
      "Mars validation Loss: 0.0065, Mars validation Accuracy: 0.9131\n"
     ]
    },
    {
     "data": {
      "image/png": "[encoded data removed]",
      "text/plain": [
       "<Figure size 1800x500 with 2 Axes>"
      ]
     },
     "metadata": {},
     "output_type": "display_data"
    },
    {
     "name": "stdout",
     "output_type": "stream",
     "text": [
      "Results:\n",
      "      - Moon training Loss: 0.0039\n",
      "      - Moon training Accuracy: 0.9720\n",
      "                -\n",
      "      - Moon validation Loss: 0.0062\n",
      "      - Moon Validation Accuracy: 0.9618\n",
      "                -\n",
      "      - Mars validation Loss: 0.0065\n",
      "      - Mars validation Accuracy: 0.9131\n"
     ]
    }
   ],
   "source": [
    "# Number of epochs to train\n",
    "num_epochs = 50\n",
    "\n",
    "# Lists to store metrics\n",
    "train_losses = [0]\n",
    "train_accuracies = [0]\n",
    "val_losses = [0]\n",
    "val_accuracies = [0]\n",
    "val_losses_mars = [0]\n",
    "val_accuracies_mars = [0]\n",
    "\n",
    "# Training loop\n",
    "for epoch in range(num_epochs):\n",
    "\n",
    "    # Set the model to training mode\n",
    "    model.train()\n",
    "\n",
    "    # Initializing metrics for the epoch:\n",
    "    running_loss = 0.0\n",
    "    correct_predictions = 0\n",
    "    total_predictions = 0\n",
    "\n",
    "    # Iterate through training data\n",
    "    for inputs, labels in train_loader:\n",
    "\n",
    "        # Move data to device\n",
    "        inputs, labels = inputs.to(device), labels.to(device)\n",
    "\n",
    "        # Zero the parameter gradients\n",
    "        optimizer.zero_grad()\n",
    "\n",
    "        # Forward pass\n",
    "        outputs = model(inputs)\n",
    "\n",
    "        # MSE Loss:\n",
    "        loss = criterion(outputs, labels)\n",
    "\n",
    "        # Backward pass\n",
    "        loss.backward()\n",
    "\n",
    "        # Update weights\n",
    "        optimizer.step()\n",
    "\n",
    "        # Update learning rate\n",
    "        scheduler.step(loss)\n",
    "\n",
    "        # Track running loss\n",
    "        running_loss += loss.item()\n",
    "\n",
    "        # Calculate accuracy\n",
    "        correct_predictions += torch.sum(torch.abs(outputs - labels) < 0.1).item()\n",
    "        total_predictions += torch.numel(outputs)\n",
    "\n",
    "    # Calculate average training loss and accuracy for the epoch\n",
    "    epoch_loss = running_loss / len(train_loader)\n",
    "    epoch_accuracy = correct_predictions / total_predictions\n",
    "    train_losses.append(epoch_loss)\n",
    "    train_accuracies.append(epoch_accuracy)\n",
    "\n",
    "    # Evaluate the model on validation set for each epoch\n",
    "    model.eval()  # Set the model to evaluation mode\n",
    "    val_running_loss = 0.0\n",
    "    val_correct_predictions = 0\n",
    "    val_total_predictions = 0\n",
    "    with torch.no_grad():  # Disable gradient calculation\n",
    "        for inputs, labels in eval_loader:\n",
    "            inputs, labels = inputs.to(device), labels.to(device)  # Move data to device\n",
    "            outputs = model(inputs)  # Forward pass\n",
    "            eval_loss = criterion(outputs, labels)  # Calculate loss\n",
    "            val_running_loss += eval_loss.item()\n",
    "\n",
    "            # Calculate accuracy\n",
    "            val_correct_predictions += torch.sum(torch.abs(outputs - labels) < 0.1).item()\n",
    "            val_total_predictions += torch.numel(outputs)\n",
    "\n",
    "    # Calculate average validation loss and accuracy for the epoch\n",
    "    val_epoch_loss = val_running_loss / len(eval_loader)\n",
    "    val_epoch_accuracy = val_correct_predictions / val_total_predictions\n",
    "    val_losses.append(val_epoch_loss)\n",
    "    val_accuracies.append(val_epoch_accuracy)\n",
    "\n",
    "    # Evaluate the model on Mars validation set for each epoch\n",
    "    val_running_loss_mars = 0.0\n",
    "    val_correct_predictions_mars = 0\n",
    "    val_total_predictions_mars = 0\n",
    "    with torch.no_grad():  # Disable gradient calculation\n",
    "        for inputs, labels in eval_loader_mars:\n",
    "            inputs, labels = inputs.to(device), labels.to(device)  # Move data to device\n",
    "            outputs = model(inputs)  # Forward pass\n",
    "            eval_loss = criterion(outputs, labels)  # Calculate loss\n",
    "            val_running_loss_mars += eval_loss.item()\n",
    "\n",
    "            # Calculate accuracy\n",
    "            val_correct_predictions_mars += torch.sum(torch.abs(outputs - labels) < 0.1).item()\n",
    "            val_total_predictions_mars += torch.numel(outputs)\n",
    "\n",
    "    # Calculate average Mars validation loss and accuracy for the epoch\n",
    "    val_epoch_loss_mars = val_running_loss_mars / len(eval_loader_mars)\n",
    "    val_epoch_accuracy_mars = val_correct_predictions_mars / val_total_predictions_mars\n",
    "    val_losses_mars.append(val_epoch_loss_mars)\n",
    "    val_accuracies_mars.append(val_epoch_accuracy_mars)\n",
    "\n",
    "    # Clear output and plot\n",
    "    clear_output(wait=True)\n",
    "\n",
    "    # Plot the metrics\n",
    "    plt.figure(figsize=(18, 5))\n",
    "\n",
    "    # Plot Loss\n",
    "    plt.subplot(1, 3, 1)\n",
    "    plt.plot(train_losses, label='Training Loss')\n",
    "    plt.plot(val_losses, label='Validation Loss')\n",
    "    plt.plot(val_losses_mars, label='Mars Validation Loss')\n",
    "    plt.xlabel('Epoch')\n",
    "    plt.ylabel('Loss')\n",
    "    plt.title('Loss Over Epochs')\n",
    "    plt.legend()\n",
    "\n",
    "    # Plot Accuracy\n",
    "    plt.subplot(1, 3, 2)\n",
    "    plt.plot(train_accuracies, label='Training Accuracy')\n",
    "    plt.plot(val_accuracies, label='Validation Accuracy')\n",
    "    plt.plot(val_accuracies_mars, label='Mars Validation Accuracy')\n",
    "    plt.xlabel('Epoch')\n",
    "    plt.ylabel('Accuracy')\n",
    "    plt.title('Accuracy Over Epochs')\n",
    "    plt.legend()\n",
    "\n",
    "    plt.tight_layout()\n",
    "    plt.show()\n",
    "\n",
    "    # Print current metrics\n",
    "    print(f\"Epoch {epoch+1}/{num_epochs}\")\n",
    "    print(f\"Moon training Loss: {epoch_loss:.4f}, Moon training Accuracy: {epoch_accuracy:.4f}\")\n",
    "    print(f\"Moon validation Loss: {val_epoch_loss:.4f}, Moon validation Accuracy: {val_epoch_accuracy:.4f}\")\n",
    "    print(f\"Mars validation Loss: {val_epoch_loss_mars:.4f}, Mars validation Accuracy: {val_epoch_accuracy_mars:.4f}\")\n",
    "\n",
    "# After training completes\n",
    "# Plot the final metrics\n",
    "plt.figure(figsize=(18, 5))\n",
    "\n",
    "# Plot Loss\n",
    "plt.subplot(1, 3, 1)\n",
    "plt.plot(train_losses, label='Moon training Loss')\n",
    "plt.plot(val_losses, label='Moon validation Loss')\n",
    "plt.plot(val_losses_mars, label='Mars validation Loss')\n",
    "plt.xlabel('Epoch')\n",
    "plt.ylabel('Loss')\n",
    "plt.title('Final Loss Over Epochs')\n",
    "plt.legend()\n",
    "\n",
    "# Plot Accuracy\n",
    "plt.subplot(1, 3, 2)\n",
    "plt.plot(train_accuracies, label='Moon training Accuracy')\n",
    "plt.plot(val_accuracies, label='Moon validation Accuracy')\n",
    "plt.plot(val_accuracies_mars, label='Mars validation Accuracy')\n",
    "plt.xlabel('Epoch')\n",
    "plt.ylabel('Accuracy')\n",
    "plt.title('Final Accuracy Over Epochs')\n",
    "plt.legend()\n",
    "\n",
    "plt.tight_layout()\n",
    "plt.show()\n",
    "\n",
    "# Print final results\n",
    "print(\"\"\"Results:\n",
    "      - Moon training Loss: {:.4f}\n",
    "      - Moon training Accuracy: {:.4f}\n",
    "                -\n",
    "      - Moon validation Loss: {:.4f}\n",
    "      - Moon Validation Accuracy: {:.4f}\n",
    "                -\n",
    "      - Mars validation Loss: {:.4f}\n",
    "      - Mars validation Accuracy: {:.4f}\"\"\".format(\n",
    "          epoch_loss, epoch_accuracy, val_epoch_loss, val_epoch_accuracy, val_epoch_loss_mars, val_epoch_accuracy_mars))\n",
    "\n",
    "# Save the model\n",
    "torch.save(model.state_dict(), 'model.pth')\n"
   ]
  },
  {
   "cell_type": "markdown",
   "metadata": {},
   "source": [
    "## Testing the ANN"
   ]
  },
  {
   "cell_type": "code",
   "execution_count": 11,
   "metadata": {},
   "outputs": [],
   "source": [
    "# Load Lunar Test Files\n",
    "import os\n",
    "folder = rf'data\\lunar\\test\\data'\n",
    "# folder = rf'data\\lunar\\training\\data'\n",
    "curDir = os.getcwd()\n",
    "dirs = os.listdir(folder)\n",
    "files_path = []\n",
    "for dir in dirs:\n",
    "    files = os.listdir(os.path.join(folder, dir))\n",
    "    for file in files:\n",
    "        if file.endswith('.mseed'):\n",
    "            files_path.append(os.path.join(curDir, folder, dir, file))"
   ]
  },
  {
   "cell_type": "code",
   "execution_count": 13,
   "metadata": {},
   "outputs": [
    {
     "data": {
      "text/plain": [
       "<Figure size 1200x400 with 0 Axes>"
      ]
     },
     "metadata": {},
     "output_type": "display_data"
    },
    {
     "data": {
      "text/plain": [
       "<Figure size 1200x400 with 0 Axes>"
      ]
     },
     "metadata": {},
     "output_type": "display_data"
    },
    {
     "data": {
      "text/plain": [
       "<Figure size 1200x400 with 0 Axes>"
      ]
     },
     "metadata": {},
     "output_type": "display_data"
    },
    {
     "data": {
      "text/plain": [
       "<Figure size 1200x400 with 0 Axes>"
      ]
     },
     "metadata": {},
     "output_type": "display_data"
    },
    {
     "data": {
      "text/plain": [
       "<Figure size 1200x400 with 0 Axes>"
      ]
     },
     "metadata": {},
     "output_type": "display_data"
    },
    {
     "data": {
      "text/plain": [
       "<Figure size 1200x400 with 0 Axes>"
      ]
     },
     "metadata": {},
     "output_type": "display_data"
    },
    {
     "data": {
      "text/plain": [
       "<Figure size 1200x400 with 0 Axes>"
      ]
     },
     "metadata": {},
     "output_type": "display_data"
    },
    {
     "data": {
      "text/plain": [
       "<Figure size 1200x400 with 0 Axes>"
      ]
     },
     "metadata": {},
     "output_type": "display_data"
    },
    {
     "data": {
      "text/plain": [
       "<Figure size 1200x400 with 0 Axes>"
      ]
     },
     "metadata": {},
     "output_type": "display_data"
    },
    {
     "data": {
      "text/plain": [
       "<Figure size 1200x400 with 0 Axes>"
      ]
     },
     "metadata": {},
     "output_type": "display_data"
    },
    {
     "data": {
      "text/plain": [
       "<Figure size 1200x400 with 0 Axes>"
      ]
     },
     "metadata": {},
     "output_type": "display_data"
    },
    {
     "data": {
      "text/plain": [
       "<Figure size 1200x400 with 0 Axes>"
      ]
     },
     "metadata": {},
     "output_type": "display_data"
    },
    {
     "data": {
      "text/plain": [
       "<Figure size 1200x400 with 0 Axes>"
      ]
     },
     "metadata": {},
     "output_type": "display_data"
    },
    {
     "data": {
      "text/plain": [
       "<Figure size 1200x400 with 0 Axes>"
      ]
     },
     "metadata": {},
     "output_type": "display_data"
    },
    {
     "data": {
      "text/plain": [
       "<Figure size 1200x400 with 0 Axes>"
      ]
     },
     "metadata": {},
     "output_type": "display_data"
    },
    {
     "data": {
      "text/plain": [
       "<Figure size 1200x400 with 0 Axes>"
      ]
     },
     "metadata": {},
     "output_type": "display_data"
    },
    {
     "data": {
      "text/plain": [
       "<Figure size 1200x400 with 0 Axes>"
      ]
     },
     "metadata": {},
     "output_type": "display_data"
    },
    {
     "data": {
      "text/plain": [
       "<Figure size 1200x400 with 0 Axes>"
      ]
     },
     "metadata": {},
     "output_type": "display_data"
    },
    {
     "data": {
      "text/plain": [
       "<Figure size 1200x400 with 0 Axes>"
      ]
     },
     "metadata": {},
     "output_type": "display_data"
    },
    {
     "data": {
      "text/plain": [
       "<Figure size 1200x400 with 0 Axes>"
      ]
     },
     "metadata": {},
     "output_type": "display_data"
    },
    {
     "data": {
      "text/plain": [
       "<Figure size 1200x400 with 0 Axes>"
      ]
     },
     "metadata": {},
     "output_type": "display_data"
    },
    {
     "data": {
      "text/plain": [
       "<Figure size 1200x400 with 0 Axes>"
      ]
     },
     "metadata": {},
     "output_type": "display_data"
    },
    {
     "data": {
      "text/plain": [
       "<Figure size 1200x400 with 0 Axes>"
      ]
     },
     "metadata": {},
     "output_type": "display_data"
    },
    {
     "data": {
      "text/plain": [
       "<Figure size 1200x400 with 0 Axes>"
      ]
     },
     "metadata": {},
     "output_type": "display_data"
    },
    {
     "data": {
      "text/plain": [
       "<Figure size 1200x400 with 0 Axes>"
      ]
     },
     "metadata": {},
     "output_type": "display_data"
    },
    {
     "data": {
      "text/plain": [
       "<Figure size 1200x400 with 0 Axes>"
      ]
     },
     "metadata": {},
     "output_type": "display_data"
    },
    {
     "data": {
      "text/plain": [
       "<Figure size 1200x400 with 0 Axes>"
      ]
     },
     "metadata": {},
     "output_type": "display_data"
    },
    {
     "data": {
      "text/plain": [
       "<Figure size 1200x400 with 0 Axes>"
      ]
     },
     "metadata": {},
     "output_type": "display_data"
    },
    {
     "data": {
      "text/plain": [
       "<Figure size 1200x400 with 0 Axes>"
      ]
     },
     "metadata": {},
     "output_type": "display_data"
    },
    {
     "data": {
      "text/plain": [
       "<Figure size 1200x400 with 0 Axes>"
      ]
     },
     "metadata": {},
     "output_type": "display_data"
    },
    {
     "data": {
      "text/plain": [
       "<Figure size 1200x400 with 0 Axes>"
      ]
     },
     "metadata": {},
     "output_type": "display_data"
    },
    {
     "data": {
      "text/plain": [
       "<Figure size 1200x400 with 0 Axes>"
      ]
     },
     "metadata": {},
     "output_type": "display_data"
    },
    {
     "data": {
      "text/plain": [
       "<Figure size 1200x400 with 0 Axes>"
      ]
     },
     "metadata": {},
     "output_type": "display_data"
    },
    {
     "data": {
      "text/plain": [
       "<Figure size 1200x400 with 0 Axes>"
      ]
     },
     "metadata": {},
     "output_type": "display_data"
    },
    {
     "data": {
      "text/plain": [
       "<Figure size 1200x400 with 0 Axes>"
      ]
     },
     "metadata": {},
     "output_type": "display_data"
    },
    {
     "data": {
      "text/plain": [
       "<Figure size 1200x400 with 0 Axes>"
      ]
     },
     "metadata": {},
     "output_type": "display_data"
    },
    {
     "data": {
      "text/plain": [
       "<Figure size 1200x400 with 0 Axes>"
      ]
     },
     "metadata": {},
     "output_type": "display_data"
    },
    {
     "data": {
      "text/plain": [
       "<Figure size 1200x400 with 0 Axes>"
      ]
     },
     "metadata": {},
     "output_type": "display_data"
    },
    {
     "data": {
      "text/plain": [
       "<Figure size 1200x400 with 0 Axes>"
      ]
     },
     "metadata": {},
     "output_type": "display_data"
    },
    {
     "data": {
      "text/plain": [
       "<Figure size 1200x400 with 0 Axes>"
      ]
     },
     "metadata": {},
     "output_type": "display_data"
    },
    {
     "data": {
      "text/plain": [
       "<Figure size 1200x400 with 0 Axes>"
      ]
     },
     "metadata": {},
     "output_type": "display_data"
    },
    {
     "data": {
      "text/plain": [
       "<Figure size 1200x400 with 0 Axes>"
      ]
     },
     "metadata": {},
     "output_type": "display_data"
    },
    {
     "data": {
      "text/plain": [
       "<Figure size 1200x400 with 0 Axes>"
      ]
     },
     "metadata": {},
     "output_type": "display_data"
    },
    {
     "data": {
      "text/plain": [
       "<Figure size 1200x400 with 0 Axes>"
      ]
     },
     "metadata": {},
     "output_type": "display_data"
    },
    {
     "data": {
      "text/plain": [
       "<Figure size 1200x400 with 0 Axes>"
      ]
     },
     "metadata": {},
     "output_type": "display_data"
    },
    {
     "data": {
      "text/plain": [
       "<Figure size 1200x400 with 0 Axes>"
      ]
     },
     "metadata": {},
     "output_type": "display_data"
    },
    {
     "data": {
      "text/plain": [
       "<Figure size 1200x400 with 0 Axes>"
      ]
     },
     "metadata": {},
     "output_type": "display_data"
    },
    {
     "data": {
      "text/plain": [
       "<Figure size 1200x400 with 0 Axes>"
      ]
     },
     "metadata": {},
     "output_type": "display_data"
    },
    {
     "data": {
      "text/plain": [
       "<Figure size 1200x400 with 0 Axes>"
      ]
     },
     "metadata": {},
     "output_type": "display_data"
    },
    {
     "data": {
      "text/plain": [
       "<Figure size 1200x400 with 0 Axes>"
      ]
     },
     "metadata": {},
     "output_type": "display_data"
    },
    {
     "data": {
      "text/plain": [
       "<Figure size 1200x400 with 0 Axes>"
      ]
     },
     "metadata": {},
     "output_type": "display_data"
    },
    {
     "data": {
      "text/plain": [
       "<Figure size 1200x400 with 0 Axes>"
      ]
     },
     "metadata": {},
     "output_type": "display_data"
    },
    {
     "data": {
      "text/plain": [
       "<Figure size 1200x400 with 0 Axes>"
      ]
     },
     "metadata": {},
     "output_type": "display_data"
    },
    {
     "data": {
      "text/plain": [
       "<Figure size 1200x400 with 0 Axes>"
      ]
     },
     "metadata": {},
     "output_type": "display_data"
    },
    {
     "data": {
      "text/plain": [
       "<Figure size 1200x400 with 0 Axes>"
      ]
     },
     "metadata": {},
     "output_type": "display_data"
    },
    {
     "data": {
      "text/plain": [
       "<Figure size 1200x400 with 0 Axes>"
      ]
     },
     "metadata": {},
     "output_type": "display_data"
    },
    {
     "data": {
      "text/plain": [
       "<Figure size 1200x400 with 0 Axes>"
      ]
     },
     "metadata": {},
     "output_type": "display_data"
    },
    {
     "data": {
      "text/plain": [
       "<Figure size 1200x400 with 0 Axes>"
      ]
     },
     "metadata": {},
     "output_type": "display_data"
    },
    {
     "data": {
      "text/plain": [
       "<Figure size 1200x400 with 0 Axes>"
      ]
     },
     "metadata": {},
     "output_type": "display_data"
    },
    {
     "data": {
      "text/plain": [
       "<Figure size 1200x400 with 0 Axes>"
      ]
     },
     "metadata": {},
     "output_type": "display_data"
    },
    {
     "data": {
      "text/plain": [
       "<Figure size 1200x400 with 0 Axes>"
      ]
     },
     "metadata": {},
     "output_type": "display_data"
    },
    {
     "data": {
      "text/plain": [
       "<Figure size 1200x400 with 0 Axes>"
      ]
     },
     "metadata": {},
     "output_type": "display_data"
    },
    {
     "data": {
      "text/plain": [
       "<Figure size 1200x400 with 0 Axes>"
      ]
     },
     "metadata": {},
     "output_type": "display_data"
    },
    {
     "data": {
      "text/plain": [
       "<Figure size 1200x400 with 0 Axes>"
      ]
     },
     "metadata": {},
     "output_type": "display_data"
    },
    {
     "data": {
      "text/plain": [
       "<Figure size 1200x400 with 0 Axes>"
      ]
     },
     "metadata": {},
     "output_type": "display_data"
    },
    {
     "data": {
      "text/plain": [
       "<Figure size 1200x400 with 0 Axes>"
      ]
     },
     "metadata": {},
     "output_type": "display_data"
    },
    {
     "data": {
      "text/plain": [
       "<Figure size 1200x400 with 0 Axes>"
      ]
     },
     "metadata": {},
     "output_type": "display_data"
    },
    {
     "data": {
      "text/plain": [
       "<Figure size 1200x400 with 0 Axes>"
      ]
     },
     "metadata": {},
     "output_type": "display_data"
    },
    {
     "data": {
      "text/plain": [
       "<Figure size 1200x400 with 0 Axes>"
      ]
     },
     "metadata": {},
     "output_type": "display_data"
    },
    {
     "data": {
      "text/plain": [
       "<Figure size 1200x400 with 0 Axes>"
      ]
     },
     "metadata": {},
     "output_type": "display_data"
    },
    {
     "data": {
      "text/plain": [
       "<Figure size 1200x400 with 0 Axes>"
      ]
     },
     "metadata": {},
     "output_type": "display_data"
    },
    {
     "data": {
      "text/plain": [
       "<Figure size 1200x400 with 0 Axes>"
      ]
     },
     "metadata": {},
     "output_type": "display_data"
    },
    {
     "data": {
      "text/plain": [
       "<Figure size 1200x400 with 0 Axes>"
      ]
     },
     "metadata": {},
     "output_type": "display_data"
    },
    {
     "data": {
      "text/plain": [
       "<Figure size 1200x400 with 0 Axes>"
      ]
     },
     "metadata": {},
     "output_type": "display_data"
    },
    {
     "data": {
      "text/plain": [
       "<Figure size 1200x400 with 0 Axes>"
      ]
     },
     "metadata": {},
     "output_type": "display_data"
    },
    {
     "data": {
      "text/plain": [
       "<Figure size 1200x400 with 0 Axes>"
      ]
     },
     "metadata": {},
     "output_type": "display_data"
    },
    {
     "data": {
      "text/plain": [
       "<Figure size 1200x400 with 0 Axes>"
      ]
     },
     "metadata": {},
     "output_type": "display_data"
    },
    {
     "data": {
      "text/plain": [
       "<Figure size 1200x400 with 0 Axes>"
      ]
     },
     "metadata": {},
     "output_type": "display_data"
    },
    {
     "data": {
      "text/plain": [
       "<Figure size 1200x400 with 0 Axes>"
      ]
     },
     "metadata": {},
     "output_type": "display_data"
    },
    {
     "data": {
      "text/plain": [
       "<Figure size 1200x400 with 0 Axes>"
      ]
     },
     "metadata": {},
     "output_type": "display_data"
    },
    {
     "data": {
      "text/plain": [
       "<Figure size 1200x400 with 0 Axes>"
      ]
     },
     "metadata": {},
     "output_type": "display_data"
    },
    {
     "data": {
      "text/plain": [
       "<Figure size 1200x400 with 0 Axes>"
      ]
     },
     "metadata": {},
     "output_type": "display_data"
    },
    {
     "data": {
      "text/plain": [
       "<Figure size 1200x400 with 0 Axes>"
      ]
     },
     "metadata": {},
     "output_type": "display_data"
    },
    {
     "data": {
      "text/plain": [
       "<Figure size 1200x400 with 0 Axes>"
      ]
     },
     "metadata": {},
     "output_type": "display_data"
    },
    {
     "data": {
      "text/plain": [
       "<Figure size 1200x400 with 0 Axes>"
      ]
     },
     "metadata": {},
     "output_type": "display_data"
    },
    {
     "data": {
      "text/plain": [
       "<Figure size 1200x400 with 0 Axes>"
      ]
     },
     "metadata": {},
     "output_type": "display_data"
    },
    {
     "data": {
      "text/plain": [
       "<Figure size 1200x400 with 0 Axes>"
      ]
     },
     "metadata": {},
     "output_type": "display_data"
    },
    {
     "data": {
      "text/plain": [
       "<Figure size 1200x400 with 0 Axes>"
      ]
     },
     "metadata": {},
     "output_type": "display_data"
    },
    {
     "data": {
      "text/plain": [
       "<Figure size 1200x400 with 0 Axes>"
      ]
     },
     "metadata": {},
     "output_type": "display_data"
    },
    {
     "data": {
      "text/plain": [
       "<Figure size 1200x400 with 0 Axes>"
      ]
     },
     "metadata": {},
     "output_type": "display_data"
    },
    {
     "data": {
      "text/plain": [
       "<Figure size 1200x400 with 0 Axes>"
      ]
     },
     "metadata": {},
     "output_type": "display_data"
    },
    {
     "data": {
      "text/plain": [
       "<Figure size 1200x400 with 0 Axes>"
      ]
     },
     "metadata": {},
     "output_type": "display_data"
    },
    {
     "data": {
      "text/plain": [
       "<Figure size 1200x400 with 0 Axes>"
      ]
     },
     "metadata": {},
     "output_type": "display_data"
    },
    {
     "data": {
      "text/plain": [
       "<Figure size 1200x400 with 0 Axes>"
      ]
     },
     "metadata": {},
     "output_type": "display_data"
    },
    {
     "data": {
      "text/plain": [
       "<Figure size 1200x400 with 0 Axes>"
      ]
     },
     "metadata": {},
     "output_type": "display_data"
    },
    {
     "data": {
      "text/plain": [
       "<Figure size 1200x400 with 0 Axes>"
      ]
     },
     "metadata": {},
     "output_type": "display_data"
    }
   ],
   "source": [
    "\n",
    "def lunar_seismic_prediction(num, save_csv=False, save_plot=True):\n",
    "    try:\n",
    "        \n",
    "        # Input Signal\n",
    "        file = files_path[num]\n",
    "        stream = obspy.read(os.path.join(file))\n",
    "        data = stream[0].data\n",
    "        time = stream[0].times()\n",
    "        fs = stream[0].stats.sampling_rate\n",
    "\n",
    "        original_data = data.copy()\n",
    "\n",
    "        # Pre-Processing\n",
    "        window_size_sec = 30 * 60\n",
    "        window_size = int(window_size_sec * fs)\n",
    "        data = butter_bandpass_filter(data, 0.4, 1, fs, 6)\n",
    "        imfs = emd.sift.ensemble_sift(data, max_imfs=5)\n",
    "        stride = window_size//48\n",
    "        input = np.lib.stride_tricks.sliding_window_view(imfs**2, window_shape=window_size, axis=0)[::stride,:,:]\n",
    "        input = np.sum(input, axis=-1)\n",
    "        input = sg.resample(input, 4000, axis=0)\n",
    "        while input.shape[1] < 5:\n",
    "            input = np.concatenate([input, np.zeros((input.shape[0], 1)) + 0.001], axis=1)\n",
    "        input_maxs = np.max(input, axis=0)\n",
    "        input = input/input_maxs\n",
    "        input = input.T\n",
    "\n",
    "        # Model Prediction\n",
    "        input_tensor = torch.tensor(input[np.newaxis, :, :], dtype=torch.float32).to(device)\n",
    "        model.eval()\n",
    "        with torch.no_grad():\n",
    "            y_pred = model(input_tensor).cpu().numpy().reshape(-1,)\n",
    "\n",
    "        # Post-Processing\n",
    "        results = np.where(y_pred > 0.25, 1, 0)\n",
    "        found = 0\n",
    "        for i in range(len(results)):\n",
    "            if found == 1:\n",
    "                if any(results[i:i+10] == 1):\n",
    "                    results[i] = 0\n",
    "                else:\n",
    "                    found = 0\n",
    "            if results[i] == 1 and found == 0:\n",
    "                found = 1\n",
    "\n",
    "        # Actual Time Detected\n",
    "        idxs = np.where(results == 1)[0]\n",
    "        actual_time_detected = []\n",
    "        for idx in idxs: \n",
    "            _pos = idx/4000 * time[-1] # Real position in input time scale\n",
    "            actual_time_detected.append(_pos)\n",
    "\n",
    "\n",
    "        # Catalog Info\n",
    "        filename = file.split('\\\\')[-1].replace('.mseed', '')\n",
    "        time_abs = stream[0].stats.starttime.strftime(r'%Y-%m-%dT%H:%M:%S.%f')\n",
    "        if len(actual_time_detected) == 0:\n",
    "            time_rel = -1\n",
    "        else:\n",
    "            time_rel = actual_time_detected[0]\n",
    "        evid = filename.split('_')[-1].replace('.mseed', '')\n",
    "        catalog_lunar['filename'].append(filename)\n",
    "        catalog_lunar[r'time_abs(%Y-%m-%dT%H:%M:%S.%f)'].append(time_abs)\n",
    "        catalog_lunar['time_rel(sec)'].append(time_rel)\n",
    "        catalog_lunar['evid'].append(evid)\n",
    "\n",
    "        if save_csv: # Csv Update\n",
    "            file_csv = files_path[num].replace('.mseed', '.csv')\n",
    "            data_csv = pd.read_csv(file_csv)\n",
    "            csv_time = data_csv['time_rel(sec)'].to_numpy()\n",
    "            prediction_csv = []\n",
    "            for pred_time in actual_time_detected:\n",
    "                prediction_csv.append(np.abs(csv_time - pred_time) < window_size_sec/16)\n",
    "            prediction_csv = np.any(prediction_csv, axis=0)\n",
    "            data_csv['prediction'] = prediction_csv.astype(int)\n",
    "            data_csv.to_csv(rf'lunar_predictions\\data_csv\\{filename}.csv', index=False)\n",
    "\n",
    "        if save_plot: # Plot the detected wave\n",
    "            figs, axs = plt.subplots(1, 1, figsize=(12, 4))\n",
    "            axs.plot(time, original_data,'b')\n",
    "            axs.set_xlabel('Time (s)')\n",
    "            axs.set_ylabel('Velocity (m/s)')\n",
    "            axs.set_title(f'Prediction - {filename}')\n",
    "            for _time in actual_time_detected:\n",
    "                axs.axvline(_time, color='r', linestyle='--', label='Rel. Arrival')\n",
    "            axs.legend()\n",
    "            figs.savefig(fr'lunar_predictions\\plot\\{filename}.png', dpi=300, bbox_inches='tight')\n",
    "            figs.clf()\n",
    "\n",
    "    except Exception as e:\n",
    "        print(f'Error in {file} - {e}')\n",
    "    return 0\n",
    "\n",
    "catalog_lunar = {\n",
    "    'filename': [],\n",
    "    r'time_abs(%Y-%m-%dT%H:%M:%S.%f)': [],\n",
    "    'time_rel(sec)': [],\n",
    "    'evid': [],\n",
    "}\n",
    "\n",
    "if not os.path.exists(r'lunar_predictions'):\n",
    "    os.makedirs(r'lunar_predictions')\n",
    "if not os.path.exists(r'lunar_predictions\\data_csv'):\n",
    "    os.makedirs(r'lunar_predictions\\data_csv')\n",
    "if not os.path.exists(r'lunar_predictions\\plot'):\n",
    "    os.makedirs(r'lunar_predictions\\plot')\n",
    "\n",
    "# for i in tqdm(range(len(files_path))):\n",
    "#     lunar_seismic_prediction(i)\n",
    "\n",
    "# Parallel Processing\n",
    "indexs = range(len(files_path))\n",
    "with ThreadPoolExecutor(max_workers=4) as executor:\n",
    "    results ==  list(tqdm(executor.map(lunar_seismic_prediction, indexs), total=len(indexs)))\n",
    "\n",
    "catalog_lunar_df = pd.DataFrame(catalog_lunar)\n",
    "catalog_lunar_df.to_csv(r'lunar_predictions\\catalog.csv', index=False)\n",
    "clear_output(wait=False)"
   ]
  },
  {
   "cell_type": "code",
   "execution_count": 14,
   "metadata": {},
   "outputs": [],
   "source": [
    "# Load Mars Test Files\n",
    "import os\n",
    "folder = rf'data\\mars\\test'\n",
    "curDir = os.getcwd()\n",
    "dirs = os.listdir(folder)\n",
    "files_path = []\n",
    "for dir in dirs:\n",
    "    files = os.listdir(os.path.join(folder, dir))\n",
    "    for file in files:\n",
    "        if file.endswith('.mseed'):\n",
    "            files_path.append(os.path.join(curDir, folder, dir, file))"
   ]
  },
  {
   "cell_type": "code",
   "execution_count": 17,
   "metadata": {},
   "outputs": [
    {
     "data": {
      "application/vnd.jupyter.widget-view+json": {
       "model_id": "e745ec6354a84a228cf501d6610c1a84",
       "version_major": 2,
       "version_minor": 0
      },
      "text/plain": [
       "  0%|          | 0/9 [00:00<?, ?it/s]"
      ]
     },
     "metadata": {},
     "output_type": "display_data"
    },
    {
     "data": {
      "text/plain": [
       "<Figure size 1200x400 with 0 Axes>"
      ]
     },
     "metadata": {},
     "output_type": "display_data"
    },
    {
     "data": {
      "text/plain": [
       "<Figure size 1200x400 with 0 Axes>"
      ]
     },
     "metadata": {},
     "output_type": "display_data"
    },
    {
     "data": {
      "text/plain": [
       "<Figure size 1200x400 with 0 Axes>"
      ]
     },
     "metadata": {},
     "output_type": "display_data"
    },
    {
     "data": {
      "text/plain": [
       "<Figure size 1200x400 with 0 Axes>"
      ]
     },
     "metadata": {},
     "output_type": "display_data"
    },
    {
     "data": {
      "text/plain": [
       "<Figure size 1200x400 with 0 Axes>"
      ]
     },
     "metadata": {},
     "output_type": "display_data"
    },
    {
     "data": {
      "text/plain": [
       "<Figure size 1200x400 with 0 Axes>"
      ]
     },
     "metadata": {},
     "output_type": "display_data"
    },
    {
     "data": {
      "text/plain": [
       "<Figure size 1200x400 with 0 Axes>"
      ]
     },
     "metadata": {},
     "output_type": "display_data"
    },
    {
     "data": {
      "text/plain": [
       "<Figure size 1200x400 with 0 Axes>"
      ]
     },
     "metadata": {},
     "output_type": "display_data"
    },
    {
     "data": {
      "text/plain": [
       "<Figure size 1200x400 with 0 Axes>"
      ]
     },
     "metadata": {},
     "output_type": "display_data"
    }
   ],
   "source": [
    "def butter_bandstop_filter(data:np.array, lowcut:float, highcut:float, fs:float, order:int):\n",
    "    nyquist = 0.5 * fs\n",
    "    low = lowcut / nyquist\n",
    "    high = highcut / nyquist\n",
    "    b, a = sg.butter(order, [low, high], btype='bandstop', analog=False)\n",
    "    y = sg.filtfilt(b, a, data)\n",
    "    return y\n",
    "\n",
    "\n",
    "\n",
    "def mars_seismic_prediction(num, save_csv=False, save_plot=True):\n",
    "    try:\n",
    "        # Input Signal\n",
    "        file = files_path[num]\n",
    "        stream = obspy.read(os.path.join(file))\n",
    "        data = stream[0].data\n",
    "        time = stream[0].times()\n",
    "        fs = stream[0].stats.sampling_rate\n",
    "        original_data = data.copy()\n",
    "\n",
    "        # Pre-Processing\n",
    "        data = butter_bandpass_filter(data, 0.5, 3, fs, 6)\n",
    "\n",
    "        imfs = emd.sift.ensemble_sift(data, max_imfs=5)\n",
    "        window_size_sec = 80\n",
    "        window_size = int(window_size_sec * fs)\n",
    "        stride = window_size//48\n",
    "        input = np.lib.stride_tricks.sliding_window_view(imfs**2, window_shape=window_size, axis=0)[::stride,:,:]\n",
    "        input = np.sum(input, axis=-1)\n",
    "        input = sg.resample(input, 4000, axis=0)\n",
    "        input_maxs = np.max(input, axis=0)\n",
    "        input = input/input_maxs\n",
    "        input = input.T\n",
    "\n",
    "        # Model Prediction\n",
    "        input_tensor = torch.tensor(input[np.newaxis, :, :], dtype=torch.float32).to(device)\n",
    "        model.eval()\n",
    "        with torch.no_grad():\n",
    "            y_pred = model(input_tensor).cpu().numpy().reshape(-1,)\n",
    "        results = np.where(y_pred > 0.3, 1, 0)\n",
    "        found = 0\n",
    "        for i in range(len(results)):\n",
    "            if found == 1:\n",
    "                if any(results[i:i+50] == 1):\n",
    "                    results[i] = 0\n",
    "                else:\n",
    "                    found = 0\n",
    "            if results[i] == 1 and found == 0:\n",
    "                found = 1\n",
    "\n",
    "        # Actual Time Detected\n",
    "        idxs = np.where(results == 1)[0]\n",
    "        actual_time_detected = []\n",
    "        for idx in idxs: \n",
    "            _pos = idx/4000 * time[-1] # Real position in input time scale\n",
    "            actual_time_detected.append(_pos)\n",
    "\n",
    "        # Catalog Info\n",
    "        filename = file.split('\\\\')[-1].replace('.mseed', '')\n",
    "        time_abs = stream[0].stats.starttime.strftime(r'%Y-%m-%dT%H:%M:%S.%f')\n",
    "        if len(actual_time_detected) == 0:\n",
    "            time_rel = -1\n",
    "        else:\n",
    "            time_rel = actual_time_detected[0]\n",
    "        evid = filename.split('_')[-1].replace('.mseed', '')\n",
    "        catalog_mars['filename'].append(filename)\n",
    "        catalog_mars[r'time_abs(%Y-%m-%dT%H:%M:%S.%f)'].append(time_abs)\n",
    "        catalog_mars['time_rel(sec)'].append(time_rel)\n",
    "        catalog_mars['evid'].append(evid)\n",
    "\n",
    "        if save_csv: # Csv Update\n",
    "            file_csv = files_path[num].replace('.mseed', '.csv')\n",
    "            data_csv = pd.read_csv(file_csv)\n",
    "            csv_time = data_csv['time_rel(sec)'].to_numpy()\n",
    "            prediction_csv = []\n",
    "            for pred_time in actual_time_detected:\n",
    "                prediction_csv.append(np.abs(csv_time - pred_time) < window_size_sec/16)\n",
    "            prediction_csv = np.any(prediction_csv, axis=0)\n",
    "            data_csv['prediction'] = prediction_csv.astype(int)\n",
    "            data_csv.to_csv(rf'mars_predictions\\data_csv\\{filename}.csv', index=False)\n",
    "\n",
    "        if save_plot: # Plot the detected wave\n",
    "            figs, axs = plt.subplots(1, 1, figsize=(12, 4))\n",
    "            axs.plot(time, original_data,'b')\n",
    "            axs.set_xlabel('Time (s)')\n",
    "            axs.set_ylabel('Velocity (m/s)')\n",
    "            axs.set_title(f'Prediction - {filename}')\n",
    "            for _time in actual_time_detected:\n",
    "                axs.axvline(_time, color='r', linestyle='--', label='Rel. Arrival')\n",
    "            axs.legend()\n",
    "            figs.savefig(fr'mars_predictions\\plot\\{filename}.png', dpi=300, bbox_inches='tight')\n",
    "            figs.clf()\n",
    "\n",
    "    except Exception as e:\n",
    "        print(f'Error in {file} - {e}')\n",
    "    return 0\n",
    "\n",
    "catalog_mars = {\n",
    "    'filename': [],\n",
    "    r'time_abs(%Y-%m-%dT%H:%M:%S.%f)': [],\n",
    "    'time_rel(sec)': [],\n",
    "    'evid': [],\n",
    "}\n",
    "\n",
    "if not os.path.exists(r'mars_predictions'):\n",
    "    os.makedirs(r'mars_predictions')\n",
    "if not os.path.exists(r'mars_predictions\\data_csv'):\n",
    "    os.makedirs(r'mars_predictions\\data_csv')\n",
    "if not os.path.exists(r'mars_predictions\\plot'):\n",
    "    os.makedirs(r'mars_predictions\\plot')\n",
    "\n",
    "for i in tqdm(range(len(files_path))):\n",
    "    mars_seismic_prediction(i)\n",
    "\n",
    "catalog_mars_df = pd.DataFrame(catalog_mars)\n",
    "catalog_mars_df.to_csv(r'mars_predictions\\catalog.csv', index=False)"
   ]
  },
  {
   "cell_type": "code",
   "execution_count": null,
   "metadata": {},
   "outputs": [],
   "source": []
  },
  {
   "cell_type": "code",
   "execution_count": null,
   "metadata": {},
   "outputs": [],
   "source": []
  }
 ],
 "metadata": {
  "kernelspec": {
   "display_name": "Python 3",
   "language": "python",
   "name": "python3"
  },
  "language_info": {
   "codemirror_mode": {
    "name": "ipython",
    "version": 3
   },
   "file_extension": ".py",
   "mimetype": "text/x-python",
   "name": "python",
   "nbconvert_exporter": "python",
   "pygments_lexer": "ipython3",
   "version": "3.11.6"
  }
 },
 "nbformat": 4,
 "nbformat_minor": 2
}
